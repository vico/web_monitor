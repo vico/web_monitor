{
 "cells": [
  {
   "cell_type": "code",
   "execution_count": 1,
   "metadata": {
    "ExecuteTime": {
     "end_time": "2017-05-24T02:31:53.384010Z",
     "start_time": "2017-05-24T11:31:50.961081+09:00"
    }
   },
   "outputs": [
    {
     "name": "stderr",
     "output_type": "stream",
     "text": [
      "IOPub data rate exceeded.\n",
      "The notebook server will temporarily stop sending output\n",
      "to the client in order to avoid crashing it.\n",
      "To change this limit, set the config variable\n",
      "`--NotebookApp.iopub_data_rate_limit`.\n"
     ]
    },
    {
     "name": "stdout",
     "output_type": "stream",
     "text": [
      "0.17.1\n"
     ]
    }
   ],
   "source": [
    "# %matplotlib inline\n",
    "# %load_ext watermark\n",
    "import pandas as pd\n",
    "from pandas import DataFrame, Series\n",
    "from pandas.io import sql\n",
    "import japandas as jpd\n",
    "from pandas.tseries.offsets import CustomBusinessDay, CustomBusinessMonthEnd\n",
    "\n",
    "import numpy as np\n",
    "import pymysql\n",
    "from datetime import datetime, timedelta\n",
    "from decimal import *\n",
    "from plotly import __version__\n",
    "from plotly.offline import download_plotlyjs, init_notebook_mode, iplot\n",
    "init_notebook_mode()\n",
    "from decimal import *\n",
    "import re\n",
    "from dateutil.parser import parse\n",
    "from IPython.display import display, HTML\n",
    "import json\n",
    "print(pd.__version__)\n",
    "\n",
    "figsize=(20, 8)"
   ]
  },
  {
   "cell_type": "code",
   "execution_count": 2,
   "metadata": {
    "ExecuteTime": {
     "end_time": "2017-05-24T02:31:53.396248Z",
     "start_time": "2017-05-24T11:31:53.387235+09:00"
    },
    "collapsed": true
   },
   "outputs": [],
   "source": [
    "with open('config.json') as f:\n",
    "    conf = json.load(f)\n",
    "\n",
    "con = pymysql.connect(host=conf['host'], user=conf['user'], passwd=conf['password'], port=conf['port']) #, database=conf['database'])"
   ]
  },
  {
   "cell_type": "code",
   "execution_count": 3,
   "metadata": {
    "ExecuteTime": {
     "end_time": "2017-05-24T02:31:53.577461Z",
     "start_time": "2017-05-24T11:31:53.399036+09:00"
    },
    "collapsed": true
   },
   "outputs": [],
   "source": [
    "broker_votes = pd.read_sql(\"\"\"\n",
    "SELECT d.objValue AS region, IF(lastName='Nakamura','Trading',IF(lastName='Wan','Borrow',lastName)) AS analyst,c.objValue AS broker,analystVote/100 AS vote\n",
    "        FROM\n",
    "        hkg02p.t08BrokerVote a,hkg02p.t01Person b, hkg02p.t10ObjectText c, hkg02p.t10ObjectText d\n",
    "        WHERE\n",
    "        brokerVoteDate='2016-12-01'\n",
    "        AND a.personID=b.personID\n",
    "        AND a.brokerVoteBrokerID=c.objectTextID\n",
    "        AND a.regionID = d.objectTextID\n",
    "        AND analystVote>0\n",
    "        ORDER BY lastName,regionID,broker\n",
    "\"\"\", con)"
   ]
  },
  {
   "cell_type": "markdown",
   "metadata": {},
   "source": [
    "### Vote budget"
   ]
  },
  {
   "cell_type": "code",
   "execution_count": 4,
   "metadata": {
    "ExecuteTime": {
     "end_time": "2017-05-24T02:31:53.594095Z",
     "start_time": "2017-05-24T11:31:53.580982+09:00"
    },
    "collapsed": true
   },
   "outputs": [],
   "source": [
    "vote_budget_data = {\n",
    "    'analyst': ['Arigami', 'Borrow', 'Forday', 'Isozaki', 'Meguro', 'Phillips', \n",
    "                'Yamashita', 'Qi', 'Nishimi', 'Shima', 'Togo', 'Trading', 'Lu', \n",
    "                'Wakahara', 'Jo', 'Ohno', 'Esparza', 'Lian', \n",
    "               ],\n",
    "    'jp': [100, 50, 100, 100, 100, 100, 50, 0, 100, 100, 100, 60, 0, 100, 100, 100, 40, 0],\n",
    "    'asia': [0, 25, 0, 0, 0, 0, 25, 50, 50, 50, 0, 25, 50, 0, 0, 0, 0, 50]\n",
    "}\n",
    "\n",
    "vote_budget = pd.DataFrame(vote_budget_data)"
   ]
  },
  {
   "cell_type": "code",
   "execution_count": 5,
   "metadata": {
    "ExecuteTime": {
     "end_time": "2017-05-24T02:31:53.626683Z",
     "start_time": "2017-05-24T11:31:53.597023+09:00"
    }
   },
   "outputs": [
    {
     "data": {
      "text/html": [
       "<div>\n",
       "<table border=\"1\" class=\"dataframe\">\n",
       "  <thead>\n",
       "    <tr style=\"text-align: right;\">\n",
       "      <th></th>\n",
       "      <th>analyst</th>\n",
       "      <th>asia</th>\n",
       "      <th>jp</th>\n",
       "    </tr>\n",
       "  </thead>\n",
       "  <tbody>\n",
       "    <tr>\n",
       "      <th>0</th>\n",
       "      <td>Arigami</td>\n",
       "      <td>0</td>\n",
       "      <td>100</td>\n",
       "    </tr>\n",
       "    <tr>\n",
       "      <th>1</th>\n",
       "      <td>Borrow</td>\n",
       "      <td>25</td>\n",
       "      <td>50</td>\n",
       "    </tr>\n",
       "    <tr>\n",
       "      <th>2</th>\n",
       "      <td>Forday</td>\n",
       "      <td>0</td>\n",
       "      <td>100</td>\n",
       "    </tr>\n",
       "    <tr>\n",
       "      <th>3</th>\n",
       "      <td>Isozaki</td>\n",
       "      <td>0</td>\n",
       "      <td>100</td>\n",
       "    </tr>\n",
       "    <tr>\n",
       "      <th>4</th>\n",
       "      <td>Meguro</td>\n",
       "      <td>0</td>\n",
       "      <td>100</td>\n",
       "    </tr>\n",
       "    <tr>\n",
       "      <th>5</th>\n",
       "      <td>Phillips</td>\n",
       "      <td>0</td>\n",
       "      <td>100</td>\n",
       "    </tr>\n",
       "    <tr>\n",
       "      <th>6</th>\n",
       "      <td>Yamashita</td>\n",
       "      <td>25</td>\n",
       "      <td>50</td>\n",
       "    </tr>\n",
       "    <tr>\n",
       "      <th>7</th>\n",
       "      <td>Qi</td>\n",
       "      <td>50</td>\n",
       "      <td>0</td>\n",
       "    </tr>\n",
       "    <tr>\n",
       "      <th>8</th>\n",
       "      <td>Nishimi</td>\n",
       "      <td>50</td>\n",
       "      <td>100</td>\n",
       "    </tr>\n",
       "    <tr>\n",
       "      <th>9</th>\n",
       "      <td>Shima</td>\n",
       "      <td>50</td>\n",
       "      <td>100</td>\n",
       "    </tr>\n",
       "    <tr>\n",
       "      <th>10</th>\n",
       "      <td>Togo</td>\n",
       "      <td>0</td>\n",
       "      <td>100</td>\n",
       "    </tr>\n",
       "    <tr>\n",
       "      <th>11</th>\n",
       "      <td>Trading</td>\n",
       "      <td>25</td>\n",
       "      <td>60</td>\n",
       "    </tr>\n",
       "    <tr>\n",
       "      <th>12</th>\n",
       "      <td>Lu</td>\n",
       "      <td>50</td>\n",
       "      <td>0</td>\n",
       "    </tr>\n",
       "    <tr>\n",
       "      <th>13</th>\n",
       "      <td>Wakahara</td>\n",
       "      <td>0</td>\n",
       "      <td>100</td>\n",
       "    </tr>\n",
       "    <tr>\n",
       "      <th>14</th>\n",
       "      <td>Jo</td>\n",
       "      <td>0</td>\n",
       "      <td>100</td>\n",
       "    </tr>\n",
       "    <tr>\n",
       "      <th>15</th>\n",
       "      <td>Ohno</td>\n",
       "      <td>0</td>\n",
       "      <td>100</td>\n",
       "    </tr>\n",
       "    <tr>\n",
       "      <th>16</th>\n",
       "      <td>Esparza</td>\n",
       "      <td>0</td>\n",
       "      <td>40</td>\n",
       "    </tr>\n",
       "    <tr>\n",
       "      <th>17</th>\n",
       "      <td>Lian</td>\n",
       "      <td>50</td>\n",
       "      <td>0</td>\n",
       "    </tr>\n",
       "  </tbody>\n",
       "</table>\n",
       "</div>"
      ],
      "text/plain": [
       "      analyst  asia   jp\n",
       "0     Arigami     0  100\n",
       "1      Borrow    25   50\n",
       "2      Forday     0  100\n",
       "3     Isozaki     0  100\n",
       "4      Meguro     0  100\n",
       "5    Phillips     0  100\n",
       "6   Yamashita    25   50\n",
       "7          Qi    50    0\n",
       "8     Nishimi    50  100\n",
       "9       Shima    50  100\n",
       "10       Togo     0  100\n",
       "11    Trading    25   60\n",
       "12         Lu    50    0\n",
       "13   Wakahara     0  100\n",
       "14         Jo     0  100\n",
       "15       Ohno     0  100\n",
       "16    Esparza     0   40\n",
       "17       Lian    50    0"
      ]
     },
     "execution_count": 5,
     "metadata": {},
     "output_type": "execute_result"
    }
   ],
   "source": [
    "vote_budget"
   ]
  },
  {
   "cell_type": "markdown",
   "metadata": {},
   "source": [
    "### Credit for Type of trades"
   ]
  },
  {
   "cell_type": "code",
   "execution_count": 6,
   "metadata": {
    "ExecuteTime": {
     "end_time": "2017-05-24T02:31:53.669720Z",
     "start_time": "2017-05-24T11:31:53.629755+09:00"
    }
   },
   "outputs": [
    {
     "data": {
      "text/html": [
       "<div>\n",
       "<table border=\"1\" class=\"dataframe\">\n",
       "  <thead>\n",
       "    <tr style=\"text-align: right;\">\n",
       "      <th></th>\n",
       "      <th>percent</th>\n",
       "      <th>type</th>\n",
       "    </tr>\n",
       "  </thead>\n",
       "  <tbody>\n",
       "    <tr>\n",
       "      <th>0</th>\n",
       "      <td>0.05</td>\n",
       "      <td>Placement</td>\n",
       "    </tr>\n",
       "    <tr>\n",
       "      <th>1</th>\n",
       "      <td>0.10</td>\n",
       "      <td>IPO</td>\n",
       "    </tr>\n",
       "    <tr>\n",
       "      <th>2</th>\n",
       "      <td>1.00</td>\n",
       "      <td>Trade</td>\n",
       "    </tr>\n",
       "    <tr>\n",
       "      <th>3</th>\n",
       "      <td>0.02</td>\n",
       "      <td>CB</td>\n",
       "    </tr>\n",
       "  </tbody>\n",
       "</table>\n",
       "</div>"
      ],
      "text/plain": [
       "   percent       type\n",
       "0     0.05  Placement\n",
       "1     0.10        IPO\n",
       "2     1.00      Trade\n",
       "3     0.02         CB"
      ]
     },
     "execution_count": 6,
     "metadata": {},
     "output_type": "execute_result"
    }
   ],
   "source": [
    "trade_credit = pd.DataFrame(\n",
    "    {\n",
    "        'type': ['Placement', 'IPO', 'Trade', 'CB'],\n",
    "        'percent': [0.05, 0.1, 1.0, 0.02]\n",
    "    }\n",
    ")\n",
    "trade_credit"
   ]
  },
  {
   "cell_type": "markdown",
   "metadata": {},
   "source": [
    "### PL target jpy\n",
    "\n",
    "Avg assets (in USD) * 0.26 / 4 quarters"
   ]
  },
  {
   "cell_type": "markdown",
   "metadata": {},
   "source": [
    "### Quarter PL"
   ]
  },
  {
   "cell_type": "code",
   "execution_count": 10,
   "metadata": {
    "ExecuteTime": {
     "end_time": "2017-05-24T03:15:16.267854Z",
     "start_time": "2017-05-24T12:15:16.058526+09:00"
    }
   },
   "outputs": [
    {
     "data": {
      "text/html": [
       "<div>\n",
       "<table border=\"1\" class=\"dataframe\">\n",
       "  <thead>\n",
       "    <tr style=\"text-align: right;\">\n",
       "      <th></th>\n",
       "      <th>name</th>\n",
       "      <th>quick</th>\n",
       "      <th>side</th>\n",
       "      <th>PL</th>\n",
       "    </tr>\n",
       "  </thead>\n",
       "  <tbody>\n",
       "    <tr>\n",
       "      <th>0</th>\n",
       "      <td>SOFTBANK GROUP CORP</td>\n",
       "      <td>9984</td>\n",
       "      <td>L</td>\n",
       "      <td>835196088</td>\n",
       "    </tr>\n",
       "    <tr>\n",
       "      <th>1</th>\n",
       "      <td>DENA CO LTD</td>\n",
       "      <td>2432</td>\n",
       "      <td>S</td>\n",
       "      <td>502086130</td>\n",
       "    </tr>\n",
       "    <tr>\n",
       "      <th>2</th>\n",
       "      <td>KYUSHU RAILWAY COMPANY</td>\n",
       "      <td>9142</td>\n",
       "      <td>L</td>\n",
       "      <td>473150079</td>\n",
       "    </tr>\n",
       "    <tr>\n",
       "      <th>3</th>\n",
       "      <td>TOKYO STEEL MFG CO LTD</td>\n",
       "      <td>5423</td>\n",
       "      <td>L</td>\n",
       "      <td>443723634</td>\n",
       "    </tr>\n",
       "    <tr>\n",
       "      <th>4</th>\n",
       "      <td>TOSHIBA CORP</td>\n",
       "      <td>6502</td>\n",
       "      <td>S</td>\n",
       "      <td>423747289</td>\n",
       "    </tr>\n",
       "  </tbody>\n",
       "</table>\n",
       "</div>"
      ],
      "text/plain": [
       "                     name quick side         PL\n",
       "0     SOFTBANK GROUP CORP  9984    L  835196088\n",
       "1             DENA CO LTD  2432    S  502086130\n",
       "2  KYUSHU RAILWAY COMPANY  9142    L  473150079\n",
       "3  TOKYO STEEL MFG CO LTD  5423    L  443723634\n",
       "4            TOSHIBA CORP  6502    S  423747289"
      ]
     },
     "execution_count": 10,
     "metadata": {},
     "output_type": "execute_result"
    }
   ],
   "source": [
    "quarter_pl = pd.read_sql(\"\"\"\n",
    "SELECT a.name, a.quick, a.side, SUM(a.attribution) AS PL\n",
    "FROM hkg02p.t05PortfolioResponsibilities a\n",
    "WHERE\n",
    "  a.processDate >= '2016-12-01' AND a.processDate <= '2017-02-28'\n",
    "GROUP BY a.instrumentID, a.side\n",
    "ORDER BY  SUM(a.attribution) DESC\n",
    "\"\"\", con)\n",
    "quarter_pl.head()"
   ]
  },
  {
   "cell_type": "markdown",
   "metadata": {},
   "source": [
    " ### Broker evaluation from Adv"
   ]
  },
  {
   "cell_type": "code",
   "execution_count": 11,
   "metadata": {
    "ExecuteTime": {
     "end_time": "2017-05-24T03:51:19.923213Z",
     "start_time": "2017-05-24T12:51:19.870757+09:00"
    }
   },
   "outputs": [
    {
     "data": {
      "text/html": [
       "<div>\n",
       "<table border=\"1\" class=\"dataframe\">\n",
       "  <thead>\n",
       "    <tr style=\"text-align: right;\">\n",
       "      <th></th>\n",
       "      <th>broker_id</th>\n",
       "      <th>percent</th>\n",
       "      <th>quarter</th>\n",
       "      <th>quick</th>\n",
       "      <th>year</th>\n",
       "    </tr>\n",
       "  </thead>\n",
       "  <tbody>\n",
       "    <tr>\n",
       "      <th>0</th>\n",
       "      <td>18</td>\n",
       "      <td>0.10</td>\n",
       "      <td>1</td>\n",
       "      <td>9984</td>\n",
       "      <td>2017</td>\n",
       "    </tr>\n",
       "    <tr>\n",
       "      <th>1</th>\n",
       "      <td>22</td>\n",
       "      <td>0.10</td>\n",
       "      <td>1</td>\n",
       "      <td>9984</td>\n",
       "      <td>2017</td>\n",
       "    </tr>\n",
       "    <tr>\n",
       "      <th>2</th>\n",
       "      <td>10</td>\n",
       "      <td>0.05</td>\n",
       "      <td>1</td>\n",
       "      <td>9142</td>\n",
       "      <td>2017</td>\n",
       "    </tr>\n",
       "    <tr>\n",
       "      <th>3</th>\n",
       "      <td>6</td>\n",
       "      <td>0.05</td>\n",
       "      <td>1</td>\n",
       "      <td>5423</td>\n",
       "      <td>2017</td>\n",
       "    </tr>\n",
       "    <tr>\n",
       "      <th>4</th>\n",
       "      <td>22</td>\n",
       "      <td>0.05</td>\n",
       "      <td>1</td>\n",
       "      <td>5423</td>\n",
       "      <td>2017</td>\n",
       "    </tr>\n",
       "  </tbody>\n",
       "</table>\n",
       "</div>"
      ],
      "text/plain": [
       "   broker_id  percent  quarter quick  year\n",
       "0         18     0.10        1  9984  2017\n",
       "1         22     0.10        1  9984  2017\n",
       "2         10     0.05        1  9142  2017\n",
       "3          6     0.05        1  5423  2017\n",
       "4         22     0.05        1  5423  2017"
      ]
     },
     "execution_count": 11,
     "metadata": {},
     "output_type": "execute_result"
    }
   ],
   "source": [
    "pl_evaluation = pd.DataFrame({\n",
    "    'year': [2017]*5,\n",
    "    'quarter': [1]*5,\n",
    "    'quick': ['9984', '9984', '9142', '5423', '5423'],\n",
    "    'broker_id': [\n",
    "        18,  # MUFJ\n",
    "        22,  # CITI\n",
    "        10,  # Mizuho\n",
    "        6,  # Daiwa\n",
    "        22\n",
    "    ],\n",
    "    'percent': [0.1, 0.1, 0.05, 0.05, 0.05]\n",
    "})\n",
    "pl_evaluation\n"
   ]
  },
  {
   "cell_type": "markdown",
   "metadata": {},
   "source": [
    "### Percent used"
   ]
  },
  {
   "cell_type": "code",
   "execution_count": 8,
   "metadata": {
    "ExecuteTime": {
     "end_time": "2017-05-24T02:31:53.931501Z",
     "start_time": "2017-05-24T11:31:53.895065+09:00"
    }
   },
   "outputs": [
    {
     "data": {
      "text/html": [
       "<div>\n",
       "<table border=\"1\" class=\"dataframe\">\n",
       "  <thead>\n",
       "    <tr style=\"text-align: right;\">\n",
       "      <th></th>\n",
       "      <th></th>\n",
       "      <th>vote</th>\n",
       "    </tr>\n",
       "    <tr>\n",
       "      <th>region</th>\n",
       "      <th>analyst</th>\n",
       "      <th></th>\n",
       "    </tr>\n",
       "  </thead>\n",
       "  <tbody>\n",
       "    <tr>\n",
       "      <th rowspan=\"8\" valign=\"top\">Asia</th>\n",
       "      <th>Borrow</th>\n",
       "      <td>1.000</td>\n",
       "    </tr>\n",
       "    <tr>\n",
       "      <th>Lian</th>\n",
       "      <td>1.000</td>\n",
       "    </tr>\n",
       "    <tr>\n",
       "      <th>Lu</th>\n",
       "      <td>1.000</td>\n",
       "    </tr>\n",
       "    <tr>\n",
       "      <th>Nishimi</th>\n",
       "      <td>0.330</td>\n",
       "    </tr>\n",
       "    <tr>\n",
       "      <th>Qi</th>\n",
       "      <td>1.000</td>\n",
       "    </tr>\n",
       "    <tr>\n",
       "      <th>Shima</th>\n",
       "      <td>0.970</td>\n",
       "    </tr>\n",
       "    <tr>\n",
       "      <th>Trading</th>\n",
       "      <td>1.000</td>\n",
       "    </tr>\n",
       "    <tr>\n",
       "      <th>Yamashita</th>\n",
       "      <td>0.300</td>\n",
       "    </tr>\n",
       "    <tr>\n",
       "      <th rowspan=\"15\" valign=\"top\">Japan</th>\n",
       "      <th>Arigami</th>\n",
       "      <td>0.937</td>\n",
       "    </tr>\n",
       "    <tr>\n",
       "      <th>Borrow</th>\n",
       "      <td>1.000</td>\n",
       "    </tr>\n",
       "    <tr>\n",
       "      <th>Esparza</th>\n",
       "      <td>1.000</td>\n",
       "    </tr>\n",
       "    <tr>\n",
       "      <th>Forday</th>\n",
       "      <td>0.455</td>\n",
       "    </tr>\n",
       "    <tr>\n",
       "      <th>Isozaki</th>\n",
       "      <td>0.961</td>\n",
       "    </tr>\n",
       "    <tr>\n",
       "      <th>Jo</th>\n",
       "      <td>0.975</td>\n",
       "    </tr>\n",
       "    <tr>\n",
       "      <th>Meguro</th>\n",
       "      <td>1.000</td>\n",
       "    </tr>\n",
       "    <tr>\n",
       "      <th>Nishimi</th>\n",
       "      <td>1.000</td>\n",
       "    </tr>\n",
       "    <tr>\n",
       "      <th>Ohno</th>\n",
       "      <td>0.990</td>\n",
       "    </tr>\n",
       "    <tr>\n",
       "      <th>Phillips</th>\n",
       "      <td>0.800</td>\n",
       "    </tr>\n",
       "    <tr>\n",
       "      <th>Shima</th>\n",
       "      <td>1.000</td>\n",
       "    </tr>\n",
       "    <tr>\n",
       "      <th>Togo</th>\n",
       "      <td>0.840</td>\n",
       "    </tr>\n",
       "    <tr>\n",
       "      <th>Trading</th>\n",
       "      <td>1.010</td>\n",
       "    </tr>\n",
       "    <tr>\n",
       "      <th>Wakahara</th>\n",
       "      <td>0.985</td>\n",
       "    </tr>\n",
       "    <tr>\n",
       "      <th>Yamashita</th>\n",
       "      <td>1.000</td>\n",
       "    </tr>\n",
       "  </tbody>\n",
       "</table>\n",
       "</div>"
      ],
      "text/plain": [
       "                   vote\n",
       "region analyst         \n",
       "Asia   Borrow     1.000\n",
       "       Lian       1.000\n",
       "       Lu         1.000\n",
       "       Nishimi    0.330\n",
       "       Qi         1.000\n",
       "       Shima      0.970\n",
       "       Trading    1.000\n",
       "       Yamashita  0.300\n",
       "Japan  Arigami    0.937\n",
       "       Borrow     1.000\n",
       "       Esparza    1.000\n",
       "       Forday     0.455\n",
       "       Isozaki    0.961\n",
       "       Jo         0.975\n",
       "       Meguro     1.000\n",
       "       Nishimi    1.000\n",
       "       Ohno       0.990\n",
       "       Phillips   0.800\n",
       "       Shima      1.000\n",
       "       Togo       0.840\n",
       "       Trading    1.010\n",
       "       Wakahara   0.985\n",
       "       Yamashita  1.000"
      ]
     },
     "execution_count": 8,
     "metadata": {},
     "output_type": "execute_result"
    }
   ],
   "source": [
    "broker_votes.groupby(['region', 'analyst']).sum()"
   ]
  },
  {
   "cell_type": "code",
   "execution_count": null,
   "metadata": {
    "collapsed": true
   },
   "outputs": [],
   "source": []
  }
 ],
 "metadata": {
  "hide_input": false,
  "kernelspec": {
   "display_name": "Python 2",
   "language": "python",
   "name": "python2"
  },
  "language_info": {
   "codemirror_mode": {
    "name": "ipython",
    "version": 2
   },
   "file_extension": ".py",
   "mimetype": "text/x-python",
   "name": "python",
   "nbconvert_exporter": "python",
   "pygments_lexer": "ipython2",
   "version": "2.7.11"
  }
 },
 "nbformat": 4,
 "nbformat_minor": 2
}
